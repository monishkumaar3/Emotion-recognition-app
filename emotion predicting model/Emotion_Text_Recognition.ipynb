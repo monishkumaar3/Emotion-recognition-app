{
 "cells": [
  {
   "cell_type": "code",
   "execution_count": 1,
   "id": "ad9c6ccf-3780-4e37-b870-cdb65d401eca",
   "metadata": {},
   "outputs": [
    {
     "name": "stdout",
     "output_type": "stream",
     "text": [
      "Predicted emotion: surprise\n"
     ]
    }
   ],
   "source": [
    "from transformers import AutoModelForSequenceClassification, AutoTokenizer\n",
    "import torch\n",
    "\n",
    "# Load the saved model and tokenizer\n",
    "model = AutoModelForSequenceClassification.from_pretrained(r\"C:\\Users\\monis\\Downloads\\Emotion_Text_Recognition-20240908T120131Z-001\\Emotion_Text_Recognition\")\n",
    "tokenizer = AutoTokenizer.from_pretrained(r'C:\\Users\\monis\\Downloads\\Emotion_Text_Recognition-20240908T120131Z-001\\Emotion_Text_Recognition')\n",
    "\n",
    "# Function to preprocess text\n",
    "def preprocess_text(text):\n",
    "    return tokenizer(text, padding=True, truncation=True, return_tensors=\"pt\")\n",
    "\n",
    "# Example input text\n",
    "input_text = \"I am so shocked!\"\n",
    "\n",
    "# Tokenize input text\n",
    "inputs = preprocess_text(input_text)\n",
    "\n",
    "# Ensure the model is in evaluation mode\n",
    "model.eval()\n",
    "\n",
    "# Move inputs to the same device as the model\n",
    "inputs = {key: value.to(model.device) for key, value in inputs.items()}\n",
    "\n",
    "# Perform prediction\n",
    "with torch.no_grad():\n",
    "    outputs = model(**inputs)\n",
    "\n",
    "# Get predicted class indices\n",
    "predictions = outputs.logits.argmax(dim=-1).cpu().numpy()\n",
    "\n",
    "# Define labels\n",
    "labels = ['sadness', 'joy', 'love', 'anger', 'fear', 'surprise']\n",
    "\n",
    "# Map predicted indices to labels\n",
    "predicted_label = labels[predictions[0]]\n",
    "\n",
    "print(f\"Predicted emotion: {predicted_label}\")\n"
   ]
  },
  {
   "cell_type": "code",
   "execution_count": null,
   "id": "59cbec50-b75c-4102-bd05-732bd052b01e",
   "metadata": {},
   "outputs": [],
   "source": []
  }
 ],
 "metadata": {
  "kernelspec": {
   "display_name": "Python 3 (ipykernel)",
   "language": "python",
   "name": "python3"
  },
  "language_info": {
   "codemirror_mode": {
    "name": "ipython",
    "version": 3
   },
   "file_extension": ".py",
   "mimetype": "text/x-python",
   "name": "python",
   "nbconvert_exporter": "python",
   "pygments_lexer": "ipython3",
   "version": "3.10.14"
  }
 },
 "nbformat": 4,
 "nbformat_minor": 5
}
